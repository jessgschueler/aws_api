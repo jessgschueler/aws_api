{
 "cells": [
  {
   "cell_type": "code",
   "execution_count": null,
   "metadata": {},
   "outputs": [],
   "source": [
    "#first lambda function, creates very simple return object\n",
    "\n",
    "import json\n",
    "\n",
    "def lambda_handler(event, context):\n",
    "    # TODO implement\n",
    "    return {\n",
    "        'statusCode': 200,\n",
    "        'body': json.dumps('Hello from Lambda!')\n",
    "    }\n"
   ]
  },
  {
   "attachments": {},
   "cell_type": "markdown",
   "metadata": {},
   "source": [
    "AWS API Gateway deployed at endpoint https://y4cfmtqve3.execute-api.us-west-2.amazonaws.com/hello_world"
   ]
  },
  {
   "cell_type": "code",
   "execution_count": null,
   "metadata": {},
   "outputs": [],
   "source": [
    "from flask import Flask, request\n",
    "import pandas as pd\n",
    "\n",
    "app = Flask(__name__)\n",
    "\n",
    "#sample flask app for test\n",
    "@app.route(\"/pdxweather\")\n",
    "def index():\n",
    "    df = pd.DataFrame([{\"date\":\"12/12/22\", \"high_temp\":47, \"conditions\": \"partly cloudy\"},\n",
    "                        {\"date\":\"12/13/22\", \"high_temp\":42, \"conditions\": \"partly cloudy\"},\n",
    "                        {\"date\":\"12/14/22\", \"high_temp\":44, \"conditions\": \"sunny\"}])\n",
    "\n",
    "    return {\n",
    "        \"Portland Weather\": df.to_dict(orient='records')\n",
    "    }, 200, {\"content-type\": \"application-json\"}\n",
    "\n",
    "if __name__ == '__main__':\n",
    "    app.run('0.0.0.0', 8080)\n"
   ]
  }
 ],
 "metadata": {
  "kernelspec": {
   "display_name": "Python 3.7.13 ('venv': venv)",
   "language": "python",
   "name": "python3"
  },
  "language_info": {
   "codemirror_mode": {
    "name": "ipython",
    "version": 3
   },
   "file_extension": ".py",
   "mimetype": "text/x-python",
   "name": "python",
   "nbconvert_exporter": "python",
   "pygments_lexer": "ipython3",
   "version": "3.7.13"
  },
  "orig_nbformat": 4,
  "vscode": {
   "interpreter": {
    "hash": "0b675c624d84ff26e5c3ee9fd2cb9003fd654e395e11cd1968025338eb5d94ba"
   }
  }
 },
 "nbformat": 4,
 "nbformat_minor": 2
}
